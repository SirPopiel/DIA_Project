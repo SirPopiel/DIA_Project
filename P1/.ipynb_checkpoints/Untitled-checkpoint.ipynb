{
 "cells": [
  {
   "cell_type": "code",
   "execution_count": 1,
   "metadata": {},
   "outputs": [
    {
     "name": "stdout",
     "output_type": "stream",
     "text": [
      "[array([ 9.53355204, 29.13610168, 52.6260166 , 70.38369669, 78.68110074,\n",
      "       82.30656251, 84.45240706, 81.63204377, 71.76541781, 57.00464033]), array([ 80.15720544,  88.96216787, 101.49845071, 114.99964329,\n",
      "       124.46907374, 125.76888634, 118.03213177, 104.59288304,\n",
      "        90.09561387,  77.84130704]), array([37.68039627, 42.55189922, 49.35119725, 56.35703166, 60.52879631,\n",
      "       59.2124807 , 52.76046162, 43.09708427, 32.78342128, 24.02395397])]\n"
     ]
    }
   ],
   "source": [
    "import numpy as np\n",
    "import matplotlib.pyplot as plt\n",
    "from bidding_environment import *\n",
    "from pricing_environment import *\n",
    "from ts_learner import *\n",
    "from gts_learner import *\n",
    "from gpts_learner import *\n",
    "import pulp\n",
    "\n",
    "n_arms = 10\n",
    "T = 150\n",
    "\n",
    "min_bid = 0.0\n",
    "max_bid = 1.0\n",
    "bids = np.linspace(min_bid, max_bid, n_arms)\n",
    "sigma = 10\n",
    "\n",
    "regrets_per_subcampaign = []\n",
    "rewards_per_subcampaign = []\n",
    "\n",
    "env = None\n",
    "gpts_learner = None\n",
    "\n",
    "for subcampaing in [1, 2, 3]:\n",
    "    env = BiddingEnvironment(bids=bids, sigma=sigma, subcampaing=subcampaing)\n",
    "    gpts_learner = GPTS_Learner(n_arms=n_arms, arms=bids)\n",
    "    for t in range(T):\n",
    "        pulled_arm = gpts_learner.pull_arm()\n",
    "        reward = env.round(pulled_arm)\n",
    "        gpts_learner.update(pulled_arm, reward)\n",
    "\n",
    "    rewards_per_subcampaign.append(gpts_learner.means - gpts_learner.sigmas)\n",
    "    opt = np.max(env.means) #todo:check this\n",
    "    regrets_per_subcampaign.append(opt - gpts_learner.collected_rewards)\n",
    "\n",
    "print(rewards_per_subcampaign)\n"
   ]
  },
  {
   "cell_type": "code",
   "execution_count": 4,
   "metadata": {},
   "outputs": [
    {
     "data": {
      "text/plain": [
       "array([43.35828775, 46.70049815, 52.36661057, 58.16555795, 61.4698244 ,\n",
       "       60.43969088, 54.89860045, 46.40076408, 37.52774455, 30.8351271 ])"
      ]
     },
     "execution_count": 4,
     "metadata": {},
     "output_type": "execute_result"
    }
   ],
   "source": [
    "gpts_learner.means"
   ]
  },
  {
   "cell_type": "code",
   "execution_count": 5,
   "metadata": {},
   "outputs": [
    {
     "data": {
      "text/plain": [
       "array([5.67789148, 4.14859893, 3.01541332, 1.80852629, 0.94102809,\n",
       "       1.22721017, 2.13813882, 3.30367981, 4.74432327, 6.81117313])"
      ]
     },
     "execution_count": 5,
     "metadata": {},
     "output_type": "execute_result"
    }
   ],
   "source": [
    "gpts_learner.sigmas"
   ]
  },
  {
   "cell_type": "code",
   "execution_count": 14,
   "metadata": {},
   "outputs": [
    {
     "data": {
      "image/png": "[encoded data removed]",
      "text/plain": [
       "<Figure size 432x288 with 1 Axes>"
      ]
     },
     "metadata": {
      "needs_background": "light"
     },
     "output_type": "display_data"
    }
   ],
   "source": [
    "plt.plot(env.bids, env.means)\n",
    "plt.scatter(env.bids, gpts_learner.means)\n",
    "plt.errorbar(\n",
    "    env.bids,\n",
    "    gpts_learner.means,\n",
    "    xerr=0,\n",
    "    yerr=gpts_learner.sigmas,\n",
    "    linestyle='',\n",
    ")\n",
    "plt.show()"
   ]
  },
  {
   "cell_type": "code",
   "execution_count": null,
   "metadata": {},
   "outputs": [],
   "source": [
    "# print(rewards_per_subcampaign)\n",
    "def get_reward(i, sub):\n",
    "    return rewards_per_subcampaign[sub - 1][i]\n",
    "\n",
    "def get_bid(i):\n",
    "    return bids[i]\n",
    "\n",
    "sub_1_choice = pulp.LpVariable.dicts('sub_1_choice', [i for i in range(n_arms)],\n",
    "                            lowBound = 0,\n",
    "                            upBound = 1,\n",
    "                            cat = pulp.LpInteger)\n",
    "\n",
    "sub_2_choice = pulp.LpVariable.dicts('sub_2_choice', [i for i in range(n_arms)],\n",
    "                            lowBound = 0,\n",
    "                            upBound = 1,\n",
    "                            cat = pulp.LpInteger)\n",
    "\n",
    "sub_3_choice = pulp.LpVariable.dicts('sub_3_choice', [i for i in range(n_arms)],\n",
    "                            lowBound = 0,\n",
    "                            upBound = 1,\n",
    "                            cat = pulp.LpInteger)\n",
    "\n",
    "p1_model = pulp.LpProblem(\"P1 Model\", pulp.LpMaximize)\n",
    "p1_model += (\n",
    "    sum([get_reward(choice, 1) * sub_1_choice[choice] for choice in range(n_arms)]) +\n",
    "    sum([get_reward(choice, 2) * sub_2_choice[choice] for choice in range(n_arms)]) +\n",
    "    sum([get_reward(choice, 3) * sub_3_choice[choice] for choice in range(n_arms)])\n",
    ")\n",
    "\n",
    "\n",
    "p1_model += sum([sub_1_choice[choice] for choice in range(n_arms)]) <= 1\n",
    "p1_model += sum([sub_2_choice[choice] for choice in range(n_arms)]) <= 1\n",
    "p1_model += sum([sub_3_choice[choice] for choice in range(n_arms)]) <= 1\n",
    "\n",
    "p1_model += (\n",
    "    sum([get_bid(choice) * sub_1_choice[choice] for choice in range(n_arms)]) +\n",
    "    sum([get_bid(choice) * sub_2_choice[choice] for choice in range(n_arms)]) +\n",
    "    sum([get_bid(choice) * sub_3_choice[choice] for choice in range(n_arms)])\n",
    ") <= 1.0\n",
    "\n",
    "p1_model.solve()\n",
    "\n",
    "adv_rew = [[] for _ in range(3)]\n",
    "\n",
    "for choice in range(n_arms):\n",
    "    if sub_1_choice[choice].value() == 1.0:\n",
    "        print(1, choice, bids[choice], get_reward(choice, 1))\n",
    "        adv_rew[0] = get_reward(choice,1)\n",
    "    if sub_2_choice[choice].value() == 1.0:\n",
    "        print(2, choice, bids[choice], get_reward(choice, 2))\n",
    "        adv_rew[1] = get_reward(choice,2)\n",
    "    if sub_3_choice[choice].value() == 1.0:\n",
    "        print(3, choice, bids[choice], get_reward(choice, 3))\n",
    "        adv_rew[2] = get_reward(choice,3)\n",
    "\n",
    "# plt.figure(0)\n",
    "# plt.xlabel(\"t\")\n",
    "# plt.ylabel(\"Regret\")\n",
    "# plt.plot(np.cumsum(np.mean(opt-gpts_rewards_per_experiment, axis=0)), 'g')\n",
    "# plt.legend([\"GPTS\"])\n",
    "# plt.show()\n",
    "'''\n",
    "TROVARE L'OTTIMO\n",
    "'''\n",
    "n_arms = 25\n",
    "prices = np.linspace(50, 100, n_arms)\n",
    "\n",
    "env1 = PricingEnvironment(n_arms = n_arms, subcampaign = 1)\n",
    "env2 = PricingEnvironment(n_arms = n_arms, subcampaign = 2)\n",
    "env3 = PricingEnvironment(n_arms = n_arms, subcampaign = 3)\n",
    "ts_learner1 = TS_Learner(n_arms = n_arms)\n",
    "ts_learner2 = TS_Learner(n_arms = n_arms)\n",
    "ts_learner3 = TS_Learner(n_arms = n_arms)\n",
    "\n",
    "for t in range(0,T):\n",
    "    pulled_arm1 = ts_learner1.pull_arm()\n",
    "    pulled_arm2 = ts_learner2.pull_arm()\n",
    "    pulled_arm3 = ts_learner3.pull_arm()\n",
    "    reward1 = env1.round(pulled_arm1)\n",
    "    reward2 = env2.round(pulled_arm2)\n",
    "    reward3 = env3.round(pulled_arm3)\n",
    "    ts_learner1.update(pulled_arm1, reward1, prices[pulled_arm1])\n",
    "    ts_learner2.update(pulled_arm2, reward2, prices[pulled_arm2])\n",
    "    ts_learner3.update(pulled_arm3, reward3, prices[pulled_arm3])\n",
    "\n",
    "\n",
    "plt.figure(0)\n",
    "plt.ylabel(\"Rewards\")\n",
    "plt.xlabel(\"t\")\n",
    "plt.plot(ts_learner1.collected_rewards, 'r')\n",
    "plt.plot(ts_learner2.collected_rewards, 'b')\n",
    "plt.plot(ts_learner3.collected_rewards, 'k')\n",
    "plt.legend([\"Sub1\",\"Sub2\",\"Sub3\"])\n",
    "plt.show()\n",
    "\n",
    "tot_rew = []\n",
    "\n",
    "for price in prices:\n",
    "    tot_rew.append(price*(sum([p[i+1](price)*adv_rew[i] for i in range(3)])))\n",
    "\n",
    "plt.figure(1)\n",
    "plt.plot(tot_rew)\n",
    "plt.show()\n",
    "\n",
    "opt = prices[np.argmax(tot_rew)]\n",
    "print(\"Best price is: \" , opt)\n",
    "\n",
    "plt.figure(2)\n",
    "plt.ylabel(\"Regret\")\n",
    "plt.xlabel(\"t\")\n",
    "plt.plot(np.cumsum(max(tot_rew) - ts_learner1.collected_rewards), 'r')\n",
    "plt.plot(np.cumsum(max(tot_rew) - ts_learner2.collected_rewards), 'b')\n",
    "plt.plot(np.cumsum(max(tot_rew) - ts_learner3.collected_rewards), 'k')\n",
    "plt.legend([\"Sub1\",\"Sub2\",\"Sub3\"])\n",
    "plt.show()\n"
   ]
  }
 ],
 "metadata": {
  "kernelspec": {
   "display_name": "Python 3",
   "language": "python",
   "name": "python3"
  },
  "language_info": {
   "codemirror_mode": {
    "name": "ipython",
    "version": 3
   },
   "file_extension": ".py",
   "mimetype": "text/x-python",
   "name": "python",
   "nbconvert_exporter": "python",
   "pygments_lexer": "ipython3",
   "version": "3.7.2"
  }
 },
 "nbformat": 4,
 "nbformat_minor": 2
}
