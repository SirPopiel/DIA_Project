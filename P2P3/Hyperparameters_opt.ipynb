{
  "nbformat": 4,
  "nbformat_minor": 0,
  "metadata": {
    "kernelspec": {
      "display_name": "Python 3",
      "language": "python",
      "name": "python3"
    },
    "language_info": {
      "codemirror_mode": {
        "name": "ipython",
        "version": 3
      },
      "file_extension": ".py",
      "mimetype": "text/x-python",
      "name": "python",
      "nbconvert_exporter": "python",
      "pygments_lexer": "ipython3",
      "version": "3.8.2"
    },
    "colab": {
      "name": "Hyperparameters (1).ipynb",
      "provenance": [],
      "collapsed_sections": []
    }
  },
  "cells": [
    {
      "cell_type": "code",
      "metadata": {
        "id": "6ShTzxc5pnkz",
        "colab_type": "code",
        "colab": {}
      },
      "source": [
        "import numpy as np\n",
        "from sklearn.gaussian_process import GaussianProcessRegressor\n",
        "from sklearn.gaussian_process.kernels import RBF, WhiteKernel, ConstantKernel as C, DotProduct, Matern\n",
        "\n",
        "sigma = 10\n",
        "n_for_b = {\n",
        "        1: (lambda x: 100 * (1.0 - np.exp(-5 * x + x ** 2 + 1 * x ** 3))),\n",
        "        2: (lambda x: 75 * (1.0 - np.exp(-5 * x + 2 * x ** 3))),\n",
        "        3: (lambda x: 100 * (1.0 - np.exp(-4 * x + 1 * x ** 3)))\n",
        "}\n",
        "\n",
        "min_budget = 0.0\n",
        "max_budget = 1.0"
      ],
      "execution_count": 0,
      "outputs": []
    },
    {
      "cell_type": "markdown",
      "metadata": {
        "id": "xhnW6juJDzWi",
        "colab_type": "text"
      },
      "source": [
        "Dalla documentazione, sommare al kernel WhiteKernel(noise_level=alpha**2, noise_level_bounds= (1,200)) dovrebbe essere equivalente ad alpha e dovrebbe pure permettere al processo di imparare alpha, ma questo è errato, in quanto la varianza del whitekernel viene inserita anche nella predizione! \n",
        "Questo alpha ha due effetti: \n",
        "\n",
        "1) jittering per assicurare che la matrice sia definita positiva per la decomposizione di Cholesky \n",
        "\n",
        "2) Ha un ruolo di controllo sulla regolarità della curva imparata e, in parte, determina l'incertezza sulla predizione. Con alpha maggiore, si avrà una curva più liscia, ma tendenzialmente IC più ampi, con un MSE più alto. Se si vuole abbattere l'MSE, è bene portarlo più vicino a 0.\n",
        "\n",
        "NB Il valore di alpha ha un grosso effetto sugli iperparametri ottenuti, dunque è necessario trovare il valore migliore per avere i migliori iperparametri e, poi, utilizzarlo anche nell'effettivo training del GP\n"
      ]
    },
    {
      "cell_type": "code",
      "metadata": {
        "id": "L-xorxA2pnk3",
        "colab_type": "code",
        "colab": {}
      },
      "source": [
        "rng = np.random.seed(0)\n",
        "alpha = 5\n",
        "#kernel = C(1e2, (1e-2, 1e4)) * RBF(length_scale = 1e-1, length_scale_bounds= (1e-5, 1e5)) + WhiteKernel(noise_level=alpha**2, noise_level_bounds='fixed')\n",
        "#kernel = C(1e2, constant_value_bounds = (2*1e1, 2*1e2)) * RBF(length_scale = 1e-1, length_scale_bounds= (1e-2, 1e1))\n",
        "kernel = C(14.1**2, constant_value_bounds = 'fixed') * RBF(length_scale = 0.271, length_scale_bounds= 'fixed') \n",
        "\n",
        "\n",
        "##DotProduct(200, sigma_0_bounds = 'fixed') Matern(length_scale=1.0, nu=1.5) , altri kernel a caso da testare che non fanno male\n",
        "\n",
        "#gp = GaussianProcessRegressor(kernel=kernel, alpha=alpha ** 2, normalize_y = False, n_restarts_optimizer = 9, random_state = rng)\n",
        "gp = GaussianProcessRegressor(kernel=kernel, alpha = alpha**2, normalize_y = True, n_restarts_optimizer = 9, random_state = rng) #optimizer = None)\n",
        "gp = GaussianProcessRegressor(kernel=kernel, alpha = alpha**2, normalize_y = True, n_restarts_optimizer = 0, random_state = rng, optimizer = None)"
      ],
      "execution_count": 0,
      "outputs": []
    },
    {
      "cell_type": "markdown",
      "metadata": {
        "id": "G_LhpNbrHazt",
        "colab_type": "text"
      },
      "source": [
        "Tendenzialmente, ridurre gli intervalli di ricerca degli iperparametri migliora la convergenza a 'buoni' iperparametri. è bene ricordare che il processo di ottimizzazione è stocastico, quindi va settato il seed per la riproducibilità.\n",
        "\n",
        "Nel kernel costante, l'iperparametro ottimale da inserire è x**2, come trovato in fondo."
      ]
    },
    {
      "cell_type": "code",
      "metadata": {
        "id": "NpVnJAoApnk8",
        "colab_type": "code",
        "colab": {
          "base_uri": "https://localhost:8080/",
          "height": 89
        },
        "outputId": "0f8a5273-8523-4047-adca-fc2e3869e002"
      },
      "source": [
        "x = np.linspace(min_budget, max_budget, 25)\n",
        "x = np.repeat(x, 50)\n",
        "\n",
        "y = np.random.normal(n_for_b[1](x), sigma)\n",
        "### non può diventare negativo\n",
        "#y = abs(y) -> ma tenere conto che così sovrastimiamo i valori bassi\n",
        "\n",
        "x_fit = np.atleast_2d(x).T\n",
        "gp.fit(x_fit, y)"
      ],
      "execution_count": 439,
      "outputs": [
        {
          "output_type": "execute_result",
          "data": {
            "text/plain": [
              "GaussianProcessRegressor(alpha=25, copy_X_train=True,\n",
              "                         kernel=14.1**2 * RBF(length_scale=0.271),\n",
              "                         n_restarts_optimizer=0, normalize_y=True,\n",
              "                         optimizer=None, random_state=None)"
            ]
          },
          "metadata": {
            "tags": []
          },
          "execution_count": 439
        }
      ]
    },
    {
      "cell_type": "code",
      "metadata": {
        "id": "bUUXyrbNpnlB",
        "colab_type": "code",
        "colab": {
          "base_uri": "https://localhost:8080/",
          "height": 283
        },
        "outputId": "b023dbe4-bb6f-4ed3-a0a7-42a3a1affc63"
      },
      "source": [
        "y_pred, sigma = gp.predict(x_fit, return_std=True)\n",
        "\n",
        "import matplotlib.pyplot as plt\n",
        "\n",
        "plt.plot(x_fit, y_pred, 'b-', label=u'Predicted Clicks')\n",
        "plt.fill(np.concatenate([x_fit, x_fit[::-1]]),\n",
        "         np.concatenate([y_pred - 1.96 * sigma, (y_pred + 1.96 * sigma)[::-1]]),\n",
        "         alpha=.5, fc='b', ec='None', label='95% Confidence Interval')\n",
        "plt.plot(x, n_for_b[1](x), 'r', label='True function')\n",
        "plt.legend()"
      ],
      "execution_count": 440,
      "outputs": [
        {
          "output_type": "execute_result",
          "data": {
            "text/plain": [
              "<matplotlib.legend.Legend at 0x7f7ae5c14ba8>"
            ]
          },
          "metadata": {
            "tags": []
          },
          "execution_count": 440
        },
        {
          "output_type": "display_data",
          "data": {
            "image/png": "[encoded data removed]",
            "text/plain": [
              "<Figure size 432x288 with 1 Axes>"
            ]
          },
          "metadata": {
            "tags": [],
            "needs_background": "light"
          }
        }
      ]
    },
    {
      "cell_type": "code",
      "metadata": {
        "id": "U5K_twsrpnlE",
        "colab_type": "code",
        "colab": {
          "base_uri": "https://localhost:8080/",
          "height": 142
        },
        "outputId": "7b5c2d89-39aa-4e68-8d42-18d3fcdfe995"
      },
      "source": [
        "gp.get_params(False)"
      ],
      "execution_count": 441,
      "outputs": [
        {
          "output_type": "execute_result",
          "data": {
            "text/plain": [
              "{'alpha': 25,\n",
              " 'copy_X_train': True,\n",
              " 'kernel': 14.1**2 * RBF(length_scale=0.271),\n",
              " 'n_restarts_optimizer': 0,\n",
              " 'normalize_y': True,\n",
              " 'optimizer': None,\n",
              " 'random_state': None}"
            ]
          },
          "metadata": {
            "tags": []
          },
          "execution_count": 441
        }
      ]
    },
    {
      "cell_type": "code",
      "metadata": {
        "id": "0FY5KNj2pnlG",
        "colab_type": "code",
        "colab": {
          "base_uri": "https://localhost:8080/",
          "height": 35
        },
        "outputId": "93a262bb-5771-401a-cb6b-3d8ac2447f73"
      },
      "source": [
        "gp.kernel_"
      ],
      "execution_count": 442,
      "outputs": [
        {
          "output_type": "execute_result",
          "data": {
            "text/plain": [
              "14.1**2 * RBF(length_scale=0.271)"
            ]
          },
          "metadata": {
            "tags": []
          },
          "execution_count": 442
        }
      ]
    },
    {
      "cell_type": "code",
      "metadata": {
        "id": "GD1NKxoJpnlJ",
        "colab_type": "code",
        "colab": {
          "base_uri": "https://localhost:8080/",
          "height": 35
        },
        "outputId": "d6b9d0c5-4101-446a-be59-f5cfce3e27aa"
      },
      "source": [
        "np.linalg.norm(y_pred - y)"
      ],
      "execution_count": 443,
      "outputs": [
        {
          "output_type": "execute_result",
          "data": {
            "text/plain": [
              "344.84948014105083"
            ]
          },
          "metadata": {
            "tags": []
          },
          "execution_count": 443
        }
      ]
    },
    {
      "cell_type": "markdown",
      "metadata": {
        "id": "jo9134LbIzlg",
        "colab_type": "text"
      },
      "source": [
        "Iperparametri molto grandi nel kernel costante ingigantiscono la grandezza degli intervalli di confidenza e rendono la funzione più irregolare (ha senso a intuito perché danno meno peso all'effetto smoothing del kernel rbf).\n",
        "\n",
        "Riguardo l'iperparametro del kernel rbf, invece, se l'iperparametro è grande, la funzione vorrà essere 'troppo regolare' e non riuscirà a fittare la curva. Se è troppo piccolo rispetto all'iperparametro del kernel costante, non riuscirà a fornire l'effetto regolarizzante. Mai metterlo > 1.\n",
        "\n",
        "Vi è dunque da bilanciare entrambi gli effetti, considerando se si vuole una funzione più liscia o interpolante maggiormente i risultati trovati.\n",
        "\n"
      ]
    }
  ]
}